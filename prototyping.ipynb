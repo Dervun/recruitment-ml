{
 "cells": [
  {
   "cell_type": "code",
   "execution_count": 1,
   "id": "7a47e891-2da3-4d78-9671-fb04cca7117b",
   "metadata": {},
   "outputs": [
    {
     "name": "stdout",
     "output_type": "stream",
     "text": [
      "time: 412 ms (started: 2022-11-07 20:17:30 +04:00)\n"
     ]
    }
   ],
   "source": [
    "%load_ext autoreload\n",
    "%autoreload 2\n",
    "%load_ext autotime\n",
    "%matplotlib inline"
   ]
  },
  {
   "cell_type": "code",
   "execution_count": 2,
   "id": "3d82525a-951d-4706-a87f-266f70755d9b",
   "metadata": {},
   "outputs": [
    {
     "name": "stdout",
     "output_type": "stream",
     "text": [
      "time: 258 ms (started: 2022-11-07 20:17:30 +04:00)\n"
     ]
    }
   ],
   "source": [
    "import datetime as dt\n",
    "import functools\n",
    "import json\n",
    "import os\n",
    "import sys\n",
    "\n",
    "import matplotlib.pyplot as plt\n",
    "plt.style.use('dark_background')\n",
    "import numpy as np\n",
    "import pandas as pd\n",
    "from tqdm.auto import tqdm\n",
    "\n",
    "tqdm.pandas()"
   ]
  },
  {
   "cell_type": "code",
   "execution_count": 3,
   "id": "2a1f06dd-49b2-41cb-b583-9e4dc5668dfb",
   "metadata": {
    "collapsed": true,
    "jupyter": {
     "outputs_hidden": true
    },
    "tags": []
   },
   "outputs": [
    {
     "name": "stdout",
     "output_type": "stream",
     "text": [
      "Collecting en-core-web-sm==3.4.1\n",
      "  Downloading https://github.com/explosion/spacy-models/releases/download/en_core_web_sm-3.4.1/en_core_web_sm-3.4.1-py3-none-any.whl (12.8 MB)\n",
      "\u001b[2K     \u001b[38;2;114;156;31m━━━━━━━━━━━━━━━━━━━━━━━━━━━━━━━━━━━━━━━━\u001b[0m \u001b[32m12.8/12.8 MB\u001b[0m \u001b[31m1.0 MB/s\u001b[0m eta \u001b[36m0:00:00\u001b[0mm eta \u001b[36m0:00:01\u001b[0m[36m0:00:01\u001b[0mm\n",
      "\u001b[?25hRequirement already satisfied: spacy<3.5.0,>=3.4.0 in /home/universe.dart.spb/smasharskiy/.local/share/virtualenvs/recruitment-ml-_SYW4Kwn/lib/python3.9/site-packages (from en-core-web-sm==3.4.1) (3.4.2)\n",
      "Requirement already satisfied: tqdm<5.0.0,>=4.38.0 in /home/universe.dart.spb/smasharskiy/.local/share/virtualenvs/recruitment-ml-_SYW4Kwn/lib/python3.9/site-packages (from spacy<3.5.0,>=3.4.0->en-core-web-sm==3.4.1) (4.64.1)\n",
      "Requirement already satisfied: packaging>=20.0 in /home/universe.dart.spb/smasharskiy/.local/share/virtualenvs/recruitment-ml-_SYW4Kwn/lib/python3.9/site-packages (from spacy<3.5.0,>=3.4.0->en-core-web-sm==3.4.1) (21.3)\n",
      "Requirement already satisfied: thinc<8.2.0,>=8.1.0 in /home/universe.dart.spb/smasharskiy/.local/share/virtualenvs/recruitment-ml-_SYW4Kwn/lib/python3.9/site-packages (from spacy<3.5.0,>=3.4.0->en-core-web-sm==3.4.1) (8.1.5)\n",
      "Requirement already satisfied: pydantic!=1.8,!=1.8.1,<1.11.0,>=1.7.4 in /home/universe.dart.spb/smasharskiy/.local/share/virtualenvs/recruitment-ml-_SYW4Kwn/lib/python3.9/site-packages (from spacy<3.5.0,>=3.4.0->en-core-web-sm==3.4.1) (1.10.2)\n",
      "Requirement already satisfied: jinja2 in /home/universe.dart.spb/smasharskiy/.local/share/virtualenvs/recruitment-ml-_SYW4Kwn/lib/python3.9/site-packages (from spacy<3.5.0,>=3.4.0->en-core-web-sm==3.4.1) (3.1.2)\n",
      "Requirement already satisfied: srsly<3.0.0,>=2.4.3 in /home/universe.dart.spb/smasharskiy/.local/share/virtualenvs/recruitment-ml-_SYW4Kwn/lib/python3.9/site-packages (from spacy<3.5.0,>=3.4.0->en-core-web-sm==3.4.1) (2.4.5)\n",
      "Requirement already satisfied: murmurhash<1.1.0,>=0.28.0 in /home/universe.dart.spb/smasharskiy/.local/share/virtualenvs/recruitment-ml-_SYW4Kwn/lib/python3.9/site-packages (from spacy<3.5.0,>=3.4.0->en-core-web-sm==3.4.1) (1.0.9)\n",
      "Requirement already satisfied: langcodes<4.0.0,>=3.2.0 in /home/universe.dart.spb/smasharskiy/.local/share/virtualenvs/recruitment-ml-_SYW4Kwn/lib/python3.9/site-packages (from spacy<3.5.0,>=3.4.0->en-core-web-sm==3.4.1) (3.3.0)\n",
      "Requirement already satisfied: typer<0.5.0,>=0.3.0 in /home/universe.dart.spb/smasharskiy/.local/share/virtualenvs/recruitment-ml-_SYW4Kwn/lib/python3.9/site-packages (from spacy<3.5.0,>=3.4.0->en-core-web-sm==3.4.1) (0.4.2)\n",
      "Requirement already satisfied: setuptools in /home/universe.dart.spb/smasharskiy/.local/share/virtualenvs/recruitment-ml-_SYW4Kwn/lib/python3.9/site-packages (from spacy<3.5.0,>=3.4.0->en-core-web-sm==3.4.1) (65.5.1)\n",
      "Requirement already satisfied: preshed<3.1.0,>=3.0.2 in /home/universe.dart.spb/smasharskiy/.local/share/virtualenvs/recruitment-ml-_SYW4Kwn/lib/python3.9/site-packages (from spacy<3.5.0,>=3.4.0->en-core-web-sm==3.4.1) (3.0.8)\n",
      "Requirement already satisfied: cymem<2.1.0,>=2.0.2 in /home/universe.dart.spb/smasharskiy/.local/share/virtualenvs/recruitment-ml-_SYW4Kwn/lib/python3.9/site-packages (from spacy<3.5.0,>=3.4.0->en-core-web-sm==3.4.1) (2.0.7)\n",
      "Requirement already satisfied: catalogue<2.1.0,>=2.0.6 in /home/universe.dart.spb/smasharskiy/.local/share/virtualenvs/recruitment-ml-_SYW4Kwn/lib/python3.9/site-packages (from spacy<3.5.0,>=3.4.0->en-core-web-sm==3.4.1) (2.0.8)\n",
      "Requirement already satisfied: pathy>=0.3.5 in /home/universe.dart.spb/smasharskiy/.local/share/virtualenvs/recruitment-ml-_SYW4Kwn/lib/python3.9/site-packages (from spacy<3.5.0,>=3.4.0->en-core-web-sm==3.4.1) (0.6.2)\n",
      "Requirement already satisfied: requests<3.0.0,>=2.13.0 in /home/universe.dart.spb/smasharskiy/.local/share/virtualenvs/recruitment-ml-_SYW4Kwn/lib/python3.9/site-packages (from spacy<3.5.0,>=3.4.0->en-core-web-sm==3.4.1) (2.28.1)\n",
      "Requirement already satisfied: numpy>=1.15.0 in /home/universe.dart.spb/smasharskiy/.local/share/virtualenvs/recruitment-ml-_SYW4Kwn/lib/python3.9/site-packages (from spacy<3.5.0,>=3.4.0->en-core-web-sm==3.4.1) (1.23.4)\n",
      "Requirement already satisfied: wasabi<1.1.0,>=0.9.1 in /home/universe.dart.spb/smasharskiy/.local/share/virtualenvs/recruitment-ml-_SYW4Kwn/lib/python3.9/site-packages (from spacy<3.5.0,>=3.4.0->en-core-web-sm==3.4.1) (0.10.1)\n",
      "Requirement already satisfied: spacy-loggers<2.0.0,>=1.0.0 in /home/universe.dart.spb/smasharskiy/.local/share/virtualenvs/recruitment-ml-_SYW4Kwn/lib/python3.9/site-packages (from spacy<3.5.0,>=3.4.0->en-core-web-sm==3.4.1) (1.0.3)\n",
      "Requirement already satisfied: spacy-legacy<3.1.0,>=3.0.10 in /home/universe.dart.spb/smasharskiy/.local/share/virtualenvs/recruitment-ml-_SYW4Kwn/lib/python3.9/site-packages (from spacy<3.5.0,>=3.4.0->en-core-web-sm==3.4.1) (3.0.10)\n",
      "Requirement already satisfied: pyparsing!=3.0.5,>=2.0.2 in /home/universe.dart.spb/smasharskiy/.local/share/virtualenvs/recruitment-ml-_SYW4Kwn/lib/python3.9/site-packages (from packaging>=20.0->spacy<3.5.0,>=3.4.0->en-core-web-sm==3.4.1) (3.0.9)\n",
      "Requirement already satisfied: smart-open<6.0.0,>=5.2.1 in /home/universe.dart.spb/smasharskiy/.local/share/virtualenvs/recruitment-ml-_SYW4Kwn/lib/python3.9/site-packages (from pathy>=0.3.5->spacy<3.5.0,>=3.4.0->en-core-web-sm==3.4.1) (5.2.1)\n",
      "Requirement already satisfied: typing-extensions>=4.1.0 in /home/universe.dart.spb/smasharskiy/.local/share/virtualenvs/recruitment-ml-_SYW4Kwn/lib/python3.9/site-packages (from pydantic!=1.8,!=1.8.1,<1.11.0,>=1.7.4->spacy<3.5.0,>=3.4.0->en-core-web-sm==3.4.1) (4.4.0)\n",
      "Requirement already satisfied: urllib3<1.27,>=1.21.1 in /home/universe.dart.spb/smasharskiy/.local/share/virtualenvs/recruitment-ml-_SYW4Kwn/lib/python3.9/site-packages (from requests<3.0.0,>=2.13.0->spacy<3.5.0,>=3.4.0->en-core-web-sm==3.4.1) (1.26.12)\n",
      "Requirement already satisfied: idna<4,>=2.5 in /home/universe.dart.spb/smasharskiy/.local/share/virtualenvs/recruitment-ml-_SYW4Kwn/lib/python3.9/site-packages (from requests<3.0.0,>=2.13.0->spacy<3.5.0,>=3.4.0->en-core-web-sm==3.4.1) (3.4)\n",
      "Requirement already satisfied: certifi>=2017.4.17 in /home/universe.dart.spb/smasharskiy/.local/share/virtualenvs/recruitment-ml-_SYW4Kwn/lib/python3.9/site-packages (from requests<3.0.0,>=2.13.0->spacy<3.5.0,>=3.4.0->en-core-web-sm==3.4.1) (2022.9.24)\n",
      "Requirement already satisfied: charset-normalizer<3,>=2 in /home/universe.dart.spb/smasharskiy/.local/share/virtualenvs/recruitment-ml-_SYW4Kwn/lib/python3.9/site-packages (from requests<3.0.0,>=2.13.0->spacy<3.5.0,>=3.4.0->en-core-web-sm==3.4.1) (2.1.1)\n",
      "Requirement already satisfied: blis<0.8.0,>=0.7.8 in /home/universe.dart.spb/smasharskiy/.local/share/virtualenvs/recruitment-ml-_SYW4Kwn/lib/python3.9/site-packages (from thinc<8.2.0,>=8.1.0->spacy<3.5.0,>=3.4.0->en-core-web-sm==3.4.1) (0.7.9)\n",
      "Requirement already satisfied: confection<1.0.0,>=0.0.1 in /home/universe.dart.spb/smasharskiy/.local/share/virtualenvs/recruitment-ml-_SYW4Kwn/lib/python3.9/site-packages (from thinc<8.2.0,>=8.1.0->spacy<3.5.0,>=3.4.0->en-core-web-sm==3.4.1) (0.0.3)\n",
      "Requirement already satisfied: click<9.0.0,>=7.1.1 in /home/universe.dart.spb/smasharskiy/.local/share/virtualenvs/recruitment-ml-_SYW4Kwn/lib/python3.9/site-packages (from typer<0.5.0,>=0.3.0->spacy<3.5.0,>=3.4.0->en-core-web-sm==3.4.1) (8.1.3)\n",
      "Requirement already satisfied: MarkupSafe>=2.0 in /home/universe.dart.spb/smasharskiy/.local/share/virtualenvs/recruitment-ml-_SYW4Kwn/lib/python3.9/site-packages (from jinja2->spacy<3.5.0,>=3.4.0->en-core-web-sm==3.4.1) (2.1.1)\n",
      "\u001b[38;5;2m✔ Download and installation successful\u001b[0m\n",
      "You can now load the package via spacy.load('en_core_web_sm')\n",
      "time: 16.6 s (started: 2022-11-07 20:17:31 +04:00)\n"
     ]
    }
   ],
   "source": [
    "!python -m spacy download en_core_web_sm"
   ]
  },
  {
   "cell_type": "code",
   "execution_count": 4,
   "id": "a97f20c4-764f-4663-bfc5-ee39400810e4",
   "metadata": {},
   "outputs": [
    {
     "data": {
      "text/html": [
       "<div>\n",
       "<style scoped>\n",
       "    .dataframe tbody tr th:only-of-type {\n",
       "        vertical-align: middle;\n",
       "    }\n",
       "\n",
       "    .dataframe tbody tr th {\n",
       "        vertical-align: top;\n",
       "    }\n",
       "\n",
       "    .dataframe thead th {\n",
       "        text-align: right;\n",
       "    }\n",
       "</style>\n",
       "<table border=\"1\" class=\"dataframe\">\n",
       "  <thead>\n",
       "    <tr style=\"text-align: right;\">\n",
       "      <th></th>\n",
       "      <th>text</th>\n",
       "      <th>austen</th>\n",
       "    </tr>\n",
       "  </thead>\n",
       "  <tbody>\n",
       "    <tr>\n",
       "      <th>0</th>\n",
       "      <td>\\nEmma Woodhouse, handsome, clever, and rich, ...</td>\n",
       "      <td>1</td>\n",
       "    </tr>\n",
       "    <tr>\n",
       "      <th>1</th>\n",
       "      <td>She was the youngest of the two daughters of a...</td>\n",
       "      <td>1</td>\n",
       "    </tr>\n",
       "    <tr>\n",
       "      <th>2</th>\n",
       "      <td>Sixteen years had Miss Taylor been in Mr. Wood...</td>\n",
       "      <td>1</td>\n",
       "    </tr>\n",
       "    <tr>\n",
       "      <th>3</th>\n",
       "      <td>The real evils, indeed, of Emma's situation we...</td>\n",
       "      <td>1</td>\n",
       "    </tr>\n",
       "    <tr>\n",
       "      <th>4</th>\n",
       "      <td>Sorrow came--a gentle sorrow--but not at all i...</td>\n",
       "      <td>1</td>\n",
       "    </tr>\n",
       "    <tr>\n",
       "      <th>...</th>\n",
       "      <td>...</td>\n",
       "      <td>...</td>\n",
       "    </tr>\n",
       "    <tr>\n",
       "      <th>12605</th>\n",
       "      <td>Unseen buds, infinite, hidden well,\\nUnder the...</td>\n",
       "      <td>0</td>\n",
       "    </tr>\n",
       "    <tr>\n",
       "      <th>12606</th>\n",
       "      <td>Good-bye my Fancy!\\nFarewell dear mate, dear l...</td>\n",
       "      <td>0</td>\n",
       "    </tr>\n",
       "    <tr>\n",
       "      <th>12607</th>\n",
       "      <td>Now for my last--let me look back a moment;\\nT...</td>\n",
       "      <td>0</td>\n",
       "    </tr>\n",
       "    <tr>\n",
       "      <th>12608</th>\n",
       "      <td>Long have we lived, joy'd, caress'd together;\\...</td>\n",
       "      <td>0</td>\n",
       "    </tr>\n",
       "    <tr>\n",
       "      <th>12609</th>\n",
       "      <td>Yet let me not be too hasty,\\nLong indeed have...</td>\n",
       "      <td>0</td>\n",
       "    </tr>\n",
       "  </tbody>\n",
       "</table>\n",
       "<p>12610 rows × 2 columns</p>\n",
       "</div>"
      ],
      "text/plain": [
       "                                                    text  austen\n",
       "0      \\nEmma Woodhouse, handsome, clever, and rich, ...       1\n",
       "1      She was the youngest of the two daughters of a...       1\n",
       "2      Sixteen years had Miss Taylor been in Mr. Wood...       1\n",
       "3      The real evils, indeed, of Emma's situation we...       1\n",
       "4      Sorrow came--a gentle sorrow--but not at all i...       1\n",
       "...                                                  ...     ...\n",
       "12605  Unseen buds, infinite, hidden well,\\nUnder the...       0\n",
       "12606  Good-bye my Fancy!\\nFarewell dear mate, dear l...       0\n",
       "12607  Now for my last--let me look back a moment;\\nT...       0\n",
       "12608  Long have we lived, joy'd, caress'd together;\\...       0\n",
       "12609  Yet let me not be too hasty,\\nLong indeed have...       0\n",
       "\n",
       "[12610 rows x 2 columns]"
      ]
     },
     "execution_count": 4,
     "metadata": {},
     "output_type": "execute_result"
    },
    {
     "name": "stdout",
     "output_type": "stream",
     "text": [
      "time: 47.6 ms (started: 2022-11-07 20:17:47 +04:00)\n"
     ]
    }
   ],
   "source": [
    "data_path = 'data/gutenberg-paragraphs.json'\n",
    "with open(data_path, 'r') as f:\n",
    "    data = json.load(f)\n",
    "df = pd.DataFrame(data)\n",
    "df"
   ]
  },
  {
   "cell_type": "code",
   "execution_count": 5,
   "id": "4ba0b8ee-85f6-4301-beda-85f5cfe093b9",
   "metadata": {},
   "outputs": [
    {
     "data": {
      "text/plain": [
       "text      0\n",
       "austen    0\n",
       "dtype: int64"
      ]
     },
     "execution_count": 5,
     "metadata": {},
     "output_type": "execute_result"
    },
    {
     "name": "stdout",
     "output_type": "stream",
     "text": [
      "time: 7.21 ms (started: 2022-11-07 20:17:47 +04:00)\n"
     ]
    }
   ],
   "source": [
    "df.isnull().sum()"
   ]
  },
  {
   "cell_type": "code",
   "execution_count": 6,
   "id": "f8652855-2c5e-462e-bf0f-b63ce04ea4c6",
   "metadata": {},
   "outputs": [
    {
     "name": "stdout",
     "output_type": "stream",
     "text": [
      "time: 1.73 ms (started: 2022-11-07 20:17:47 +04:00)\n"
     ]
    }
   ],
   "source": [
    "df.rename(columns={'austen': 'target'}, inplace=True)"
   ]
  },
  {
   "cell_type": "code",
   "execution_count": 7,
   "id": "f2115684-0a85-4dc5-93fd-a4e833ab393c",
   "metadata": {},
   "outputs": [
    {
     "data": {
      "text/plain": [
       "0    7861\n",
       "1    4749\n",
       "Name: target, dtype: int64"
      ]
     },
     "execution_count": 7,
     "metadata": {},
     "output_type": "execute_result"
    },
    {
     "name": "stdout",
     "output_type": "stream",
     "text": [
      "time: 3.91 ms (started: 2022-11-07 20:17:47 +04:00)\n"
     ]
    }
   ],
   "source": [
    "df['target'].value_counts()"
   ]
  },
  {
   "cell_type": "code",
   "execution_count": 8,
   "id": "610b6574-45eb-4085-98bb-1104410d6e45",
   "metadata": {},
   "outputs": [
    {
     "data": {
      "text/plain": [
       "Text(0.5, 1.0, 'distribution of text length in symbols')"
      ]
     },
     "execution_count": 8,
     "metadata": {},
     "output_type": "execute_result"
    },
    {
     "data": {
      "image/png": "[encoded data removed]",
      "text/plain": [
       "<Figure size 1000x400 with 1 Axes>"
      ]
     },
     "metadata": {},
     "output_type": "display_data"
    },
    {
     "name": "stdout",
     "output_type": "stream",
     "text": [
      "time: 299 ms (started: 2022-11-07 20:17:47 +04:00)\n"
     ]
    }
   ],
   "source": [
    "current_data = df['text'].map(lambda x: len(x))\n",
    "plt.figure(figsize=(10, 4), dpi=100)\n",
    "ax = plt.gca()\n",
    "ax.hist(current_data, bins=30)\n",
    "ax.set_title('distribution of text length in symbols')"
   ]
  },
  {
   "cell_type": "code",
   "execution_count": 9,
   "id": "1e47b66c-e51d-4582-83be-728a68014268",
   "metadata": {},
   "outputs": [
    {
     "data": {
      "text/plain": [
       "Text(0.5, 1.0, 'distribution of text length in \"words\"')"
      ]
     },
     "execution_count": 9,
     "metadata": {},
     "output_type": "execute_result"
    },
    {
     "data": {
      "image/png": "[encoded data removed]",
      "text/plain": [
       "<Figure size 1000x400 with 1 Axes>"
      ]
     },
     "metadata": {},
     "output_type": "display_data"
    },
    {
     "name": "stdout",
     "output_type": "stream",
     "text": [
      "time: 284 ms (started: 2022-11-07 20:17:48 +04:00)\n"
     ]
    }
   ],
   "source": [
    "current_data = df['text'].map(lambda x: len(x.split()))\n",
    "plt.figure(figsize=(10, 4), dpi=100)\n",
    "ax = plt.gca()\n",
    "ax.hist(current_data, bins=30)\n",
    "ax.set_title('distribution of text length in \"words\"')"
   ]
  },
  {
   "cell_type": "markdown",
   "id": "b4630eee-4112-47ff-985b-b575186d2f86",
   "metadata": {},
   "source": [
    "### Okay, I will choose what is the maximum acceptable length and shrink too long texts"
   ]
  },
  {
   "cell_type": "code",
   "execution_count": 10,
   "id": "0168c438-a75f-4082-9432-cbc2aa6cfdf1",
   "metadata": {},
   "outputs": [
    {
     "name": "stdout",
     "output_type": "stream",
     "text": [
      "time: 6.34 ms (started: 2022-11-07 20:17:48 +04:00)\n"
     ]
    }
   ],
   "source": [
    "df['len'] = df['text'].map(lambda x: len(x))"
   ]
  },
  {
   "cell_type": "code",
   "execution_count": 11,
   "id": "6235ee74-698b-421c-ac83-418e873cfcf3",
   "metadata": {},
   "outputs": [
    {
     "data": {
      "text/plain": [
       "11"
      ]
     },
     "execution_count": 11,
     "metadata": {},
     "output_type": "execute_result"
    },
    {
     "name": "stdout",
     "output_type": "stream",
     "text": [
      "time: 4.13 ms (started: 2022-11-07 20:17:48 +04:00)\n"
     ]
    }
   ],
   "source": [
    "max_length = 5000\n",
    "(df['len'] > max_length).sum()"
   ]
  },
  {
   "cell_type": "code",
   "execution_count": 12,
   "id": "b019a4b0-f785-4cb5-b82b-f6fba499a3fa",
   "metadata": {},
   "outputs": [
    {
     "data": {
      "text/plain": [
       "4780    [Stories to Tell to Children by Sara Cone Brya...\n",
       "9061    [The Parent's Assistant, by Maria Edgeworth]\\r...\n",
       "9062    [Moby Dick by Herman Melville 1851]\\r\\n\\r\\n\\r\\...\n",
       "9063    [Paradise Lost by John Milton 1667] \\n \\n \\nBo...\n",
       "Name: text, dtype: object"
      ]
     },
     "execution_count": 12,
     "metadata": {},
     "output_type": "execute_result"
    },
    {
     "name": "stdout",
     "output_type": "stream",
     "text": [
      "time: 11 ms (started: 2022-11-07 20:17:48 +04:00)\n"
     ]
    }
   ],
   "source": [
    "df.loc[df['len'] > 100000, 'text']"
   ]
  },
  {
   "cell_type": "markdown",
   "id": "b762a48f-fabc-4d90-b02b-9c5df9159bda",
   "metadata": {},
   "source": [
    "### If we shrink to 5k symbols it concerns less than 0.1% of the data"
   ]
  },
  {
   "cell_type": "code",
   "execution_count": 13,
   "id": "be53eb1c-3677-45fe-b1ab-a3723ffa25ee",
   "metadata": {},
   "outputs": [
    {
     "name": "stdout",
     "output_type": "stream",
     "text": [
      "time: 2.31 ms (started: 2022-11-07 20:17:48 +04:00)\n"
     ]
    }
   ],
   "source": [
    "df.loc[df['len'] > max_length, 'text'] = df.loc[df['len'] > max_length, 'text'].map(\n",
    "    lambda x: x[:max_length])"
   ]
  },
  {
   "cell_type": "code",
   "execution_count": 14,
   "id": "430fe1ca-1316-4142-8fed-777d1a739b15",
   "metadata": {},
   "outputs": [
    {
     "data": {
      "text/plain": [
       "Text(0.5, 1.0, 'distribution of text length in symbols')"
      ]
     },
     "execution_count": 14,
     "metadata": {},
     "output_type": "execute_result"
    },
    {
     "data": {
      "image/png": "[encoded data removed]",
      "text/plain": [
       "<Figure size 1000x400 with 1 Axes>"
      ]
     },
     "metadata": {},
     "output_type": "display_data"
    },
    {
     "name": "stdout",
     "output_type": "stream",
     "text": [
      "time: 212 ms (started: 2022-11-07 20:17:48 +04:00)\n"
     ]
    }
   ],
   "source": [
    "current_data = df['text'].map(lambda x: len(x))\n",
    "plt.figure(figsize=(10, 4), dpi=100)\n",
    "ax = plt.gca()\n",
    "ax.hist(current_data, bins=30)\n",
    "ax.set_title('distribution of text length in symbols')"
   ]
  },
  {
   "cell_type": "code",
   "execution_count": 15,
   "id": "f300e383-76ce-4d3e-9ddc-119153e0c74e",
   "metadata": {},
   "outputs": [
    {
     "data": {
      "text/plain": [
       "Text(0.5, 1.0, 'distribution of text length in \"words\"')"
      ]
     },
     "execution_count": 15,
     "metadata": {},
     "output_type": "execute_result"
    },
    {
     "data": {
      "image/png": "[encoded data removed]",
      "text/plain": [
       "<Figure size 1000x400 with 1 Axes>"
      ]
     },
     "metadata": {},
     "output_type": "display_data"
    },
    {
     "name": "stdout",
     "output_type": "stream",
     "text": [
      "time: 283 ms (started: 2022-11-07 20:17:48 +04:00)\n"
     ]
    }
   ],
   "source": [
    "current_data = df['text'].map(lambda x: len(x.split()))\n",
    "plt.figure(figsize=(10, 4), dpi=100)\n",
    "ax = plt.gca()\n",
    "ax.hist(current_data, bins=30)\n",
    "ax.set_title('distribution of text length in \"words\"')"
   ]
  },
  {
   "cell_type": "code",
   "execution_count": null,
   "id": "efde264f-d16b-4638-9d48-faf4fcf14e9f",
   "metadata": {},
   "outputs": [],
   "source": []
  },
  {
   "cell_type": "markdown",
   "id": "b779b861-e7a3-42da-91d2-1bfbb5d3a7e5",
   "metadata": {},
   "source": [
    "## Some cleansing"
   ]
  },
  {
   "cell_type": "code",
   "execution_count": 16,
   "id": "997ecf9c-becc-46de-98a6-54e6c5f48b35",
   "metadata": {},
   "outputs": [
    {
     "name": "stdout",
     "output_type": "stream",
     "text": [
      "time: 458 ms (started: 2022-11-07 20:17:49 +04:00)\n"
     ]
    }
   ],
   "source": [
    "import spacy\n",
    "from spacy.lang.en import English"
   ]
  },
  {
   "cell_type": "code",
   "execution_count": 17,
   "id": "8eab4163-f119-45cc-9057-14c12b69a078",
   "metadata": {},
   "outputs": [
    {
     "name": "stdout",
     "output_type": "stream",
     "text": [
      "time: 946 µs (started: 2022-11-07 20:17:49 +04:00)\n"
     ]
    }
   ],
   "source": [
    "def normalize_words_and_clean(s, nlp, ignore_pos=('PRON', 'DET', 'AUX')):\n",
    "    doc = nlp(s)\n",
    "    ignore_pos = set(ignore_pos)\n",
    "    norm_words = []\n",
    "    for token in doc:\n",
    "        # print(token, token.lemma_, token.is_alpha, token.pos_)\n",
    "        if not token.is_alpha or token.pos_ in ignore_pos:\n",
    "            continue\n",
    "        norm_words.append(token.lemma_.lower())\n",
    "    clean_sent = ' '.join(norm_words)\n",
    "    return clean_sent"
   ]
  },
  {
   "cell_type": "code",
   "execution_count": 18,
   "id": "04a7916e-a605-422a-ae0d-065336e3a402",
   "metadata": {},
   "outputs": [
    {
     "name": "stderr",
     "output_type": "stream",
     "text": [
      "/home/universe.dart.spb/smasharskiy/.local/share/virtualenvs/recruitment-ml-_SYW4Kwn/lib/python3.9/site-packages/spacy/language.py:1895: UserWarning: [W123] Argument disable with value ['parser', 'ner'] is used instead of ['senter'] as specified in the config. Be aware that this might affect other components in your pipeline.\n",
      "  warnings.warn(\n"
     ]
    },
    {
     "name": "stdout",
     "output_type": "stream",
     "text": [
      "\"She was the youngest of the two daughters of a most affectionate,\\nindulgent father; and had, in consequence of her sister's marriage,\\nbeen mistress of his house from a very early period.  Her mother\\nhad died too long ago for her to have more than an indistinct\\nremembrance of her caresses; and her place had been supplied\\nby an excellent woman as governess, who had fallen little short\\nof a mother in affection.\"\n",
      "\n",
      "'young of two daughter of most affectionate indulgent father and in consequence of sister marriage mistress of house from very early period mother die too long ago for to more than indistinct remembrance of caress and place supply by excellent woman as governess fall little short of mother in affection'\n",
      "time: 470 ms (started: 2022-11-07 20:17:49 +04:00)\n"
     ]
    }
   ],
   "source": [
    "# experiment with the normalization\n",
    "nlp = spacy.load('en_core_web_sm', disable=['parser', 'ner'])\n",
    "x = df.loc[1, 'text']\n",
    "y = normalize_words_and_clean(x, nlp)\n",
    "print(repr(x))\n",
    "print()\n",
    "print(repr(y))"
   ]
  },
  {
   "cell_type": "code",
   "execution_count": 19,
   "id": "8a687ed8-2484-4aaa-bd53-b251aa50c8f5",
   "metadata": {},
   "outputs": [
    {
     "data": {
      "application/vnd.jupyter.widget-view+json": {
       "model_id": "7522451ce9034572801d9fb54b401978",
       "version_major": 2,
       "version_minor": 0
      },
      "text/plain": [
       "  0%|          | 0/12610 [00:00<?, ?it/s]"
      ]
     },
     "metadata": {},
     "output_type": "display_data"
    },
    {
     "data": {
      "text/html": [
       "<div>\n",
       "<style scoped>\n",
       "    .dataframe tbody tr th:only-of-type {\n",
       "        vertical-align: middle;\n",
       "    }\n",
       "\n",
       "    .dataframe tbody tr th {\n",
       "        vertical-align: top;\n",
       "    }\n",
       "\n",
       "    .dataframe thead th {\n",
       "        text-align: right;\n",
       "    }\n",
       "</style>\n",
       "<table border=\"1\" class=\"dataframe\">\n",
       "  <thead>\n",
       "    <tr style=\"text-align: right;\">\n",
       "      <th></th>\n",
       "      <th>text</th>\n",
       "      <th>target</th>\n",
       "      <th>len</th>\n",
       "      <th>clean_text</th>\n",
       "    </tr>\n",
       "  </thead>\n",
       "  <tbody>\n",
       "    <tr>\n",
       "      <th>0</th>\n",
       "      <td>\\nEmma Woodhouse, handsome, clever, and rich, ...</td>\n",
       "      <td>1</td>\n",
       "      <td>240</td>\n",
       "      <td>emma woodhouse handsome clever and rich with c...</td>\n",
       "    </tr>\n",
       "    <tr>\n",
       "      <th>1</th>\n",
       "      <td>She was the youngest of the two daughters of a...</td>\n",
       "      <td>1</td>\n",
       "      <td>411</td>\n",
       "      <td>young of two daughter of most affectionate ind...</td>\n",
       "    </tr>\n",
       "    <tr>\n",
       "      <th>2</th>\n",
       "      <td>Sixteen years had Miss Taylor been in Mr. Wood...</td>\n",
       "      <td>1</td>\n",
       "      <td>597</td>\n",
       "      <td>sixteen year miss taylor in woodhouse family l...</td>\n",
       "    </tr>\n",
       "    <tr>\n",
       "      <th>3</th>\n",
       "      <td>The real evils, indeed, of Emma's situation we...</td>\n",
       "      <td>1</td>\n",
       "      <td>344</td>\n",
       "      <td>real evil indeed of emma situation power of ha...</td>\n",
       "    </tr>\n",
       "    <tr>\n",
       "      <th>4</th>\n",
       "      <td>Sorrow came--a gentle sorrow--but not at all i...</td>\n",
       "      <td>1</td>\n",
       "      <td>551</td>\n",
       "      <td>sorrow come gentle sorrow but not at all in sh...</td>\n",
       "    </tr>\n",
       "    <tr>\n",
       "      <th>...</th>\n",
       "      <td>...</td>\n",
       "      <td>...</td>\n",
       "      <td>...</td>\n",
       "      <td>...</td>\n",
       "    </tr>\n",
       "    <tr>\n",
       "      <th>12605</th>\n",
       "      <td>Unseen buds, infinite, hidden well,\\nUnder the...</td>\n",
       "      <td>0</td>\n",
       "      <td>461</td>\n",
       "      <td>unseen bud infinite hide well under snow and i...</td>\n",
       "    </tr>\n",
       "    <tr>\n",
       "      <th>12606</th>\n",
       "      <td>Good-bye my Fancy!\\nFarewell dear mate, dear l...</td>\n",
       "      <td>0</td>\n",
       "      <td>162</td>\n",
       "      <td>good bye fancy farewell dear mate dear love go...</td>\n",
       "    </tr>\n",
       "    <tr>\n",
       "      <th>12607</th>\n",
       "      <td>Now for my last--let me look back a moment;\\nT...</td>\n",
       "      <td>0</td>\n",
       "      <td>144</td>\n",
       "      <td>now for last let look back moment slow fainter...</td>\n",
       "    </tr>\n",
       "    <tr>\n",
       "      <th>12608</th>\n",
       "      <td>Long have we lived, joy'd, caress'd together;\\...</td>\n",
       "      <td>0</td>\n",
       "      <td>93</td>\n",
       "      <td>long live together separation good bye fancy</td>\n",
       "    </tr>\n",
       "    <tr>\n",
       "      <th>12609</th>\n",
       "      <td>Yet let me not be too hasty,\\nLong indeed have...</td>\n",
       "      <td>0</td>\n",
       "      <td>469</td>\n",
       "      <td>yet let not too hasty long indeed live slept b...</td>\n",
       "    </tr>\n",
       "  </tbody>\n",
       "</table>\n",
       "<p>12610 rows × 4 columns</p>\n",
       "</div>"
      ],
      "text/plain": [
       "                                                    text  target  len  \\\n",
       "0      \\nEmma Woodhouse, handsome, clever, and rich, ...       1  240   \n",
       "1      She was the youngest of the two daughters of a...       1  411   \n",
       "2      Sixteen years had Miss Taylor been in Mr. Wood...       1  597   \n",
       "3      The real evils, indeed, of Emma's situation we...       1  344   \n",
       "4      Sorrow came--a gentle sorrow--but not at all i...       1  551   \n",
       "...                                                  ...     ...  ...   \n",
       "12605  Unseen buds, infinite, hidden well,\\nUnder the...       0  461   \n",
       "12606  Good-bye my Fancy!\\nFarewell dear mate, dear l...       0  162   \n",
       "12607  Now for my last--let me look back a moment;\\nT...       0  144   \n",
       "12608  Long have we lived, joy'd, caress'd together;\\...       0   93   \n",
       "12609  Yet let me not be too hasty,\\nLong indeed have...       0  469   \n",
       "\n",
       "                                              clean_text  \n",
       "0      emma woodhouse handsome clever and rich with c...  \n",
       "1      young of two daughter of most affectionate ind...  \n",
       "2      sixteen year miss taylor in woodhouse family l...  \n",
       "3      real evil indeed of emma situation power of ha...  \n",
       "4      sorrow come gentle sorrow but not at all in sh...  \n",
       "...                                                  ...  \n",
       "12605  unseen bud infinite hide well under snow and i...  \n",
       "12606  good bye fancy farewell dear mate dear love go...  \n",
       "12607  now for last let look back moment slow fainter...  \n",
       "12608       long live together separation good bye fancy  \n",
       "12609  yet let not too hasty long indeed live slept b...  \n",
       "\n",
       "[12610 rows x 4 columns]"
      ]
     },
     "execution_count": 19,
     "metadata": {},
     "output_type": "execute_result"
    },
    {
     "name": "stdout",
     "output_type": "stream",
     "text": [
      "time: 1min 28s (started: 2022-11-07 20:17:50 +04:00)\n"
     ]
    }
   ],
   "source": [
    "nlp = spacy.load('en_core_web_sm', disable=['parser', 'ner'])\n",
    "f = functools.partial(normalize_words_and_clean, nlp=nlp)\n",
    "df['clean_text'] = df['text'].progress_apply(f)\n",
    "df"
   ]
  },
  {
   "cell_type": "code",
   "execution_count": null,
   "id": "9768d369-1db6-4ff6-b94d-8c26df8c1dd0",
   "metadata": {},
   "outputs": [],
   "source": []
  },
  {
   "cell_type": "markdown",
   "id": "08e747f4-87da-4709-bd44-34b1026d6ad2",
   "metadata": {},
   "source": [
    "## Let's try classic TF-IDF + SVM"
   ]
  },
  {
   "cell_type": "code",
   "execution_count": 20,
   "id": "3a16352f-374b-4989-9b71-030968f8e05c",
   "metadata": {},
   "outputs": [
    {
     "name": "stdout",
     "output_type": "stream",
     "text": [
      "time: 498 ms (started: 2022-11-07 20:19:18 +04:00)\n"
     ]
    }
   ],
   "source": [
    "from sklearn.model_selection import train_test_split, KFold\n",
    "\n",
    "train, test = train_test_split(df, test_size=0.2, stratify=df['target'], random_state=1)"
   ]
  },
  {
   "cell_type": "code",
   "execution_count": 21,
   "id": "4ceefc90-d9d4-406f-9145-b0fbeec69eda",
   "metadata": {},
   "outputs": [
    {
     "name": "stdout",
     "output_type": "stream",
     "text": [
      "time: 17.1 ms (started: 2022-11-07 20:19:19 +04:00)\n"
     ]
    }
   ],
   "source": [
    "from sklearn.feature_extraction.text import TfidfVectorizer\n",
    "from sklearn.svm import SVC\n",
    "\n",
    "vectorizer = TfidfVectorizer(max_df=0.75, min_df=20)\n",
    "model = SVC(random_state=1, kernel='linear')"
   ]
  },
  {
   "cell_type": "code",
   "execution_count": 22,
   "id": "7789b166-fb41-433d-83aa-1054c00a8f59",
   "metadata": {},
   "outputs": [
    {
     "name": "stdout",
     "output_type": "stream",
     "text": [
      "time: 220 ms (started: 2022-11-07 20:19:19 +04:00)\n"
     ]
    }
   ],
   "source": [
    "corpus = train['clean_text'].tolist()\n",
    "tf_idf = vectorizer.fit_transform(corpus)"
   ]
  },
  {
   "cell_type": "code",
   "execution_count": 23,
   "id": "2a7bd0e3-2748-45e0-bd0c-7e5bf78e03f0",
   "metadata": {},
   "outputs": [
    {
     "name": "stdout",
     "output_type": "stream",
     "text": [
      "16461\n",
      "time: 812 µs (started: 2022-11-07 20:19:19 +04:00)\n"
     ]
    }
   ],
   "source": [
    "print(len(vectorizer.stop_words_))"
   ]
  },
  {
   "cell_type": "code",
   "execution_count": 24,
   "id": "9b2c8536-b666-4e3d-9ab0-462214642e45",
   "metadata": {},
   "outputs": [
    {
     "data": {
      "text/plain": [
       "<10088x2214 sparse matrix of type '<class 'numpy.float64'>'\n",
       "\twith 280311 stored elements in Compressed Sparse Row format>"
      ]
     },
     "execution_count": 24,
     "metadata": {},
     "output_type": "execute_result"
    },
    {
     "name": "stdout",
     "output_type": "stream",
     "text": [
      "time: 1.81 ms (started: 2022-11-07 20:19:19 +04:00)\n"
     ]
    }
   ],
   "source": [
    "tf_idf"
   ]
  },
  {
   "cell_type": "code",
   "execution_count": null,
   "id": "4a2246b0-d259-4149-aa8d-2adab32c2543",
   "metadata": {},
   "outputs": [],
   "source": []
  },
  {
   "cell_type": "code",
   "execution_count": 25,
   "id": "24c19ac9-dc2f-4ab2-bfc9-9af0cc40a4c0",
   "metadata": {},
   "outputs": [
    {
     "data": {
      "application/vnd.jupyter.widget-view+json": {
       "model_id": "e072c86c79a7436abc3a8c4bd6d7167e",
       "version_major": 2,
       "version_minor": 0
      },
      "text/plain": [
       "Fold:   0%|          | 0/5 [00:00<?, ?it/s]"
      ]
     },
     "metadata": {},
     "output_type": "display_data"
    },
    {
     "name": "stdout",
     "output_type": "stream",
     "text": [
      "time: 31.5 s (started: 2022-11-07 20:19:19 +04:00)\n"
     ]
    }
   ],
   "source": [
    "n_folds = 5\n",
    "kf = KFold(n_splits=n_folds)\n",
    "results = []\n",
    "for train_index, val_index in tqdm(kf.split(train), desc='Fold', total=n_folds):\n",
    "    train_index = train.index[train_index]\n",
    "    val_index = train.index[val_index]\n",
    "    X_train = train.loc[train_index, 'clean_text'].tolist()\n",
    "    X_val = train.loc[val_index, 'clean_text'].tolist()\n",
    "    y_train, y_val = train.loc[train_index, 'target'], train.loc[val_index, 'target']\n",
    "    \n",
    "    tf_idf_train = vectorizer.fit_transform(X_train)\n",
    "    tf_idf_val = vectorizer.transform(X_val)\n",
    "    \n",
    "    model.fit(tf_idf_train, y_train)\n",
    "    train_df = train.loc[train_index].copy()\n",
    "    val_df = train.loc[val_index].copy()\n",
    "    train_df['pred'] = model.predict(tf_idf_train)\n",
    "    val_df['pred'] = model.predict(tf_idf_val)\n",
    "    results.append((train_df, val_df))"
   ]
  },
  {
   "cell_type": "code",
   "execution_count": 26,
   "id": "41a2cc2c-c8da-40cb-9666-2c8b47df73db",
   "metadata": {},
   "outputs": [
    {
     "name": "stdout",
     "output_type": "stream",
     "text": [
      "Train        F1: mean: 0.974, std: 0.00170\n",
      "Val          F1: mean: 0.941, std: 0.00618 \n",
      "\n",
      "Train precision: mean: 0.988, std: 0.00079\n",
      "Val   precision: mean: 0.965, std: 0.00920 \n",
      "\n",
      "Train    recall: mean: 0.961, std: 0.00279\n",
      "Val      recall: mean: 0.919, std: 0.00359\n",
      "time: 87 ms (started: 2022-11-07 20:19:51 +04:00)\n"
     ]
    }
   ],
   "source": [
    "from sklearn.metrics import f1_score, precision_score, recall_score\n",
    "\n",
    "train_f1s = [\n",
    "    f1_score(train_res['target'], train_res['pred'])\n",
    "    for train_res, val_res in results]\n",
    "val_f1s = [\n",
    "    f1_score(val_res['target'], val_res['pred'])\n",
    "    for train_res, val_res in results]\n",
    "train_precisions = [\n",
    "    precision_score(train_res['target'], train_res['pred'])\n",
    "    for train_res, val_res in results]\n",
    "val_precisions = [\n",
    "    precision_score(val_res['target'], val_res['pred'])\n",
    "    for train_res, val_res in results]\n",
    "train_recalls = [\n",
    "    recall_score(train_res['target'], train_res['pred'])\n",
    "    for train_res, val_res in results]\n",
    "val_recalls = [\n",
    "    recall_score(val_res['target'], val_res['pred'])\n",
    "    for train_res, val_res in results]\n",
    "\n",
    "print(f'Train        F1: mean: {np.mean(train_f1s):.3f}, std: {np.std(train_f1s):.5f}')\n",
    "print(f'Val          F1: mean: {np.mean(val_f1s):.3f}, std: {np.std(val_f1s):.5f}', '\\n')\n",
    "print(f'Train precision: mean: {np.mean(train_precisions):.3f}, '\n",
    "      f'std: {np.std(train_precisions):.5f}')\n",
    "print(f'Val   precision: mean: {np.mean(val_precisions):.3f}, '\n",
    "      f'std: {np.std(val_precisions):.5f}', '\\n')\n",
    "print(f'Train    recall: mean: {np.mean(train_recalls):.3f}, std: {np.std(train_recalls):.5f}')\n",
    "print(f'Val      recall: mean: {np.mean(val_recalls):.3f}, std: {np.std(val_recalls):.5f}')"
   ]
  },
  {
   "cell_type": "markdown",
   "id": "26e09cc8-1201-42bb-8729-af01445b91e7",
   "metadata": {},
   "source": [
    "### Wow! Just this baseline and 0.94±0.006 F1...\n",
    "\n",
    "Let's test"
   ]
  },
  {
   "cell_type": "code",
   "execution_count": 27,
   "id": "3c79561c-f006-4647-8907-1187f54c07cc",
   "metadata": {},
   "outputs": [
    {
     "name": "stdout",
     "output_type": "stream",
     "text": [
      "time: 8.95 s (started: 2022-11-07 20:19:51 +04:00)\n"
     ]
    }
   ],
   "source": [
    "X_train = train['clean_text'].tolist()\n",
    "X_test = test['clean_text'].tolist()\n",
    "y_train, y_test = train['target'], test['target']\n",
    "tf_idf_train = vectorizer.fit_transform(X_train)\n",
    "tf_idf_test = vectorizer.transform(X_test)\n",
    "\n",
    "model.fit(tf_idf_train, y_train)\n",
    "train_df = train.copy()\n",
    "test_df = test.copy()\n",
    "train_df['pred'] = model.predict(tf_idf_train)\n",
    "test_df['pred'] = model.predict(tf_idf_test)"
   ]
  },
  {
   "cell_type": "code",
   "execution_count": 28,
   "id": "399bc7e3-efbe-48d2-b2b4-f0b8d364bfa5",
   "metadata": {},
   "outputs": [
    {
     "name": "stdout",
     "output_type": "stream",
     "text": [
      "Train        F1: 0.977\n",
      "Test         F1: 0.944\n",
      "\n",
      "Train precision: 0.989\n",
      "Test  precision: 0.970\n",
      "\n",
      "Train    recall: 0.965\n",
      "Test     recall: 0.919\n",
      "time: 14 ms (started: 2022-11-07 20:20:00 +04:00)\n"
     ]
    }
   ],
   "source": [
    "print(f\"Train        F1: {f1_score(train_df['target'], train_df['pred']):.3f}\")\n",
    "print(f\"Test         F1: {f1_score(test_df['target'], test_df['pred']):.3f}\\n\")\n",
    "print(f\"Train precision: {precision_score(train_df['target'], train_df['pred']):.3f}\")\n",
    "print(f\"Test  precision: {precision_score(test_df['target'], test_df['pred']):.3f}\\n\")\n",
    "print(f\"Train    recall: {recall_score(train_df['target'], train_df['pred']):.3f}\")\n",
    "print(f\"Test     recall: {recall_score(test_df['target'], test_df['pred']):.3f}\")"
   ]
  },
  {
   "cell_type": "code",
   "execution_count": null,
   "id": "4791ca3c-ef7e-4347-94cc-c506b39169e6",
   "metadata": {},
   "outputs": [],
   "source": []
  }
 ],
 "metadata": {
  "kernelspec": {
   "display_name": "Python 3 (ipykernel)",
   "language": "python",
   "name": "python3"
  },
  "language_info": {
   "codemirror_mode": {
    "name": "ipython",
    "version": 3
   },
   "file_extension": ".py",
   "mimetype": "text/x-python",
   "name": "python",
   "nbconvert_exporter": "python",
   "pygments_lexer": "ipython3",
   "version": "3.9.15"
  }
 },
 "nbformat": 4,
 "nbformat_minor": 5
}
